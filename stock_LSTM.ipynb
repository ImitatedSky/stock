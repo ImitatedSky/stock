{
  "nbformat": 4,
  "nbformat_minor": 0,
  "metadata": {
    "colab": {
      "provenance": [],
      "authorship_tag": "ABX9TyNPqyBikywpHIVQu9BUM8OP",
      "include_colab_link": true
    },
    "kernelspec": {
      "name": "python3",
      "display_name": "Python 3"
    },
    "language_info": {
      "name": "python"
    }
  },
  "cells": [
    {
      "cell_type": "markdown",
      "metadata": {
        "id": "view-in-github",
        "colab_type": "text"
      },
      "source": [
        "<a href=\"https://colab.research.google.com/github/ImitatedSky/stock/blob/main/stock_LSTM.ipynb\" target=\"_parent\"><img src=\"https://colab.research.google.com/assets/colab-badge.svg\" alt=\"Open In Colab\"/></a>"
      ]
    },
    {
      "cell_type": "code",
      "execution_count": null,
      "metadata": {
        "id": "hX9m8Ewukhbx"
      },
      "outputs": [],
      "source": [
        "stock = pd.read_csv('stock50.csv')\n",
        "stock.head()\n",
        "\n",
        "def normalize(df):\n",
        "    norm = df.apply(lambda x: (x - np.min(x)) / (np.max(x) - np.min(x)))\n",
        "    return norm\n",
        "\n"
      ]
    },
    {
      "cell_type": "code",
      "source": [
        "stock = stock.dropna()\n",
        "stock['y'] = stock['Close'].shift(-1)\n",
        "stock.iloc[:,2:4] = normalize(stock.iloc[:,2:4])\n",
        "stock.head()"
      ],
      "metadata": {
        "id": "suEMOPD7nos9"
      },
      "execution_count": null,
      "outputs": []
    },
    {
      "cell_type": "code",
      "source": [
        "def train_windows(df, ref_day=5, predict_day=1):\n",
        "    X_train, Y_train = [], []\n",
        "    for i in range(df.shape[0]-predict_day-ref_day+1):\n",
        "        X_train.append(np.array(df.iloc[i:i+ref_day,:-1]))\n",
        "        Y_train.append(np.array(df.iloc[i+ref_day:i+ref_day+predict_day][\"y\"]))\n",
        "    return np.array(X_train), np.array(Y_train)"
      ],
      "metadata": {
        "id": "ZIq4Vho4nnXT"
      },
      "execution_count": null,
      "outputs": []
    },
    {
      "cell_type": "code",
      "source": [
        "class stock_lstm(keras.Model):\n",
        "  def __init__(self,units):\n",
        "      super(stock_lstm, self).__init__()\n",
        "      self.rnn = Sequential([\n",
        "          layers.SimpleRNN(units,input_shape=(5,2),dropout=0.2,return_sequences=True,unroll=True),\n",
        "          layers.SimpleRNN(units,dropout=0.2,unroll=True)])\n",
        "      self.fc = layers.Dense(32)\n",
        "      self.out = layers.Dense(1)\n",
        "  def call(self, inputs, training=None):\n",
        "      x = self.rnn(inputs)\n",
        "      x = self.fc(x)\n",
        "      out = self.out(x)\n",
        "      return out"
      ],
      "metadata": {
        "id": "90jDLteBnrga"
      },
      "execution_count": null,
      "outputs": []
    },
    {
      "cell_type": "code",
      "source": [
        "rnn_model = stock_lstm(units)\n",
        "rnn_model.compile(optimizer  =keras.optimizers.Adam(),loss=\"mean_absolute_error\",metrics=['mean_absolute_error'])\n",
        "rnn_model.fit(data,epochs=epochs, validation_data = data_test,shuffle=True)"
      ],
      "metadata": {
        "id": "wPGnmiuSns3r"
      },
      "execution_count": null,
      "outputs": []
    }
  ]
}