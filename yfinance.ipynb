{
  "nbformat": 4,
  "nbformat_minor": 0,
  "metadata": {
    "colab": {
      "private_outputs": true,
      "provenance": [],
      "authorship_tag": "ABX9TyOgWZrWvKev93cMWC70Py2a",
      "include_colab_link": true
    },
    "kernelspec": {
      "name": "python3",
      "display_name": "Python 3"
    },
    "language_info": {
      "name": "python"
    },
    "gpuClass": "standard"
  },
  "cells": [
    {
      "cell_type": "markdown",
      "metadata": {
        "id": "view-in-github",
        "colab_type": "text"
      },
      "source": [
        "<a href=\"https://colab.research.google.com/github/ImitatedSky/stock/blob/main/yfinance.ipynb\" target=\"_parent\"><img src=\"https://colab.research.google.com/assets/colab-badge.svg\" alt=\"Open In Colab\"/></a>"
      ]
    },
    {
      "cell_type": "code",
      "execution_count": null,
      "metadata": {
        "id": "e6G93vDVVdBz"
      },
      "outputs": [],
      "source": [
        "!pip install yfinance\n",
        "import yfinance as yf"
      ]
    },
    {
      "cell_type": "code",
      "source": [
        "df = yf.Ticker(\"QQQ\")\n",
        "print(df.history('1d'))"
      ],
      "metadata": {
        "id": "fq5THxGgWGRC"
      },
      "execution_count": null,
      "outputs": []
    },
    {
      "cell_type": "code",
      "source": [
        "yf.download('plug',period = '1mo',interval = '1d')"
      ],
      "metadata": {
        "id": "hTBo2aWBdB0i"
      },
      "execution_count": null,
      "outputs": []
    },
    {
      "cell_type": "code",
      "source": [
        "yf.download('LAC',period = '1mo',interval = '1d')"
      ],
      "metadata": {
        "id": "Ms5jRYGEdxe-"
      },
      "execution_count": null,
      "outputs": []
    },
    {
      "cell_type": "code",
      "source": [
        "yf.download('QQQ',period = '1mo',interval = '1d')"
      ],
      "metadata": {
        "id": "j-mexWh4d3Gd"
      },
      "execution_count": null,
      "outputs": []
    },
    {
      "cell_type": "code",
      "source": [
        "#!nvidia-smi\n",
        "print(df.history('1y').Close.plot())"
      ],
      "metadata": {
        "id": "PWav1FmLWI-Q"
      },
      "execution_count": null,
      "outputs": []
    },
    {
      "cell_type": "code",
      "source": [
        "yf.download('0056.TW',period = '1mo',interval = '1d')"
      ],
      "metadata": {
        "id": "EjPdpeyyYack"
      },
      "execution_count": null,
      "outputs": []
    }
  ]
}